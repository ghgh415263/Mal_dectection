{
  "nbformat": 4,
  "nbformat_minor": 0,
  "metadata": {
    "colab": {
      "name": "ImageTo192x192.ipynb",
      "provenance": [],
      "collapsed_sections": [],
      "mount_file_id": "https://github.com/ghgh415263/Mal_dectection/blob/main/ImageToFixed.ipynb",
      "authorship_tag": "ABX9TyPsSZ1ryHevAPPPonmZSaOi",
      "include_colab_link": true
    },
    "kernelspec": {
      "name": "python3",
      "display_name": "Python 3"
    },
    "language_info": {
      "name": "python"
    }
  },
  "cells": [
    {
      "cell_type": "markdown",
      "metadata": {
        "id": "view-in-github",
        "colab_type": "text"
      },
      "source": [
        "<a href=\"https://colab.research.google.com/github/ghgh415263/Mal_dectection/blob/main/ImageToFixed.ipynb\" target=\"_parent\"><img src=\"https://colab.research.google.com/assets/colab-badge.svg\" alt=\"Open In Colab\"/></a>"
      ]
    },
    {
      "cell_type": "code",
      "source": [
        "!unzip \"/content/drive/MyDrive/Colab_Notebooks/malware_model192x192/data/malimg_dataset.zip\" -d \"/content/dataset\""
      ],
      "metadata": {
        "id": "K4qnLa5W3CIO"
      },
      "execution_count": null,
      "outputs": []
    },
    {
      "cell_type": "code",
      "source": [
        "import os\n",
        "from PIL import Image\n",
        "\n",
        "size = 224\n",
        "path = \"/content/dataset\"        # 변환할 데이터셋\n",
        "path2 = \"/content/malimg_dataset_224\"   # 변환된 데이터셋\n",
        "\n",
        "def check_point_del(file_list):          # 체크포인트가 같이 리스트로 불려오는 경우가 있음\n",
        "  try:\n",
        "    file_list.remove(\".ipynb_checkpoints\")\n",
        "  except ValueError:\n",
        "    return\n",
        "\n",
        "dir_list = os.listdir(path)\n",
        "check_point_del(dir_list)\n",
        "\n",
        "finished_count = 0\n",
        "for d in dir_list: # dir -> 하위 dir -> 재각각인 image\n",
        "  img_list = os.listdir(path+'/'+d)\n",
        "  check_point_del(img_list)\n",
        "  for i in img_list:\n",
        "    with Image.open(\"{0}/{1}/{2}\".format(path,d,i)) as image:\n",
        "      resize_image = image.resize((size, size), resample=Image.NEAREST)\n",
        "    resize_image.convert(\"RGB\")\n",
        "    if not os.path.exists(path2+'/'+d):\n",
        "      os.makedirs(path2+'/'+d)\n",
        "    resize_image.save(\"{0}/{1}/{2}_224.png\".format(path2,d,os.path.splitext(i)[0])) #(path2+d+\"/\"+os.path.splitext(i)[0]+\"_192.png\")\n",
        "    finished_count += 1\n",
        "  print(\"{0}개 압축풀기 완료\".format(finished_count))"
      ],
      "metadata": {
        "id": "pmN1nUFA3Ef1",
        "outputId": "7bab6800-811f-44de-ed09-0fb796646845",
        "colab": {
          "base_uri": "https://localhost:8080/"
        }
      },
      "execution_count": 2,
      "outputs": [
        {
          "output_type": "stream",
          "name": "stdout",
          "text": [
            "80개 압축풀기 완료\n",
            "208개 압축풀기 완료\n",
            "1799개 압축풀기 완료\n",
            "1999개 압축풀기 완료\n",
            "2197개 압축풀기 완료\n",
            "2329개 압축풀기 완료\n",
            "2426개 압축풀기 완료\n",
            "2549개 압축풀기 완료\n",
            "2671개 압축풀기 완료\n",
            "2884개 압축풀기 완료\n",
            "3020개 압축풀기 완료\n",
            "3820개 압축풀기 완료\n",
            "4004개 압축풀기 완료\n",
            "4412개 압축풀기 완료\n",
            "4589개 압축풀기 완료\n",
            "4735개 압축풀기 완료\n",
            "4897개 압축풀기 완료\n",
            "5003개 압축풀기 완료\n",
            "5119개 압축풀기 완료\n",
            "5500개 압축풀기 완료\n",
            "5642개 압축풀기 완료\n",
            "5801개 압축풀기 완료\n",
            "6232개 압축풀기 완료\n",
            "6390개 압축풀기 완료\n",
            "9339개 압축풀기 완료\n"
          ]
        }
      ]
    }
  ]
}
{
  "nbformat": 4,
  "nbformat_minor": 0,
  "metadata": {
    "colab": {
      "name": "ImageTo192x192.ipynb",
      "provenance": [],
      "collapsed_sections": [],
      "mount_file_id": "https://github.com/ghgh415263/Mal_dectection/blob/main/ImageToFixed.ipynb",
      "authorship_tag": "ABX9TyMYT0sRXMj0LVNAcAulyy26",
      "include_colab_link": true
    },
    "kernelspec": {
      "name": "python3",
      "display_name": "Python 3"
    },
    "language_info": {
      "name": "python"
    }
  },
  "cells": [
    {
      "cell_type": "markdown",
      "metadata": {
        "id": "view-in-github",
        "colab_type": "text"
      },
      "source": [
        "<a href=\"https://colab.research.google.com/github/ghgh415263/Mal_dectection/blob/main/ImageToFixed.ipynb\" target=\"_parent\"><img src=\"https://colab.research.google.com/assets/colab-badge.svg\" alt=\"Open In Colab\"/></a>"
      ]
    },
    {
      "cell_type": "code",
      "source": [
        "import os\n",
        "from PIL import Image\n",
        "\n",
        "size = 224\n",
        "path = \"/content/dataset\"        # 변환할 데이터셋\n",
        "path2 = \"/content/malimg_224_bilinear\"   # 변환된 데이터셋\n",
        "\n",
        "def check_point_del(file_list):          # 체크포인트가 같이 리스트로 불려오는 경우가 있음\n",
        "  try:\n",
        "    file_list.remove(\".ipynb_checkpoints\")\n",
        "  except ValueError:\n",
        "    return\n",
        "\n",
        "dir_list = os.listdir(path)\n",
        "check_point_del(dir_list)\n",
        "\n",
        "finished_count = 0\n",
        "for d in dir_list: # dir -> 하위 dir -> 재각각인 image\n",
        "  img_list = os.listdir(path+'/'+d)\n",
        "  check_point_del(img_list)\n",
        "  for i in img_list:\n",
        "    with Image.open(\"{0}/{1}/{2}\".format(path,d,i)) as image:\n",
        "      resize_image = image.resize((size, size), resample=Image.BILINEAR)\n",
        "    resize_image.convert(\"RGB\")\n",
        "    if not os.path.exists(path2+'/'+d):\n",
        "      os.makedirs(path2+'/'+d)\n",
        "    resize_image.save(\"{0}/{1}/{2}_224.png\".format(path2,d,os.path.splitext(i)[0])) #(path2+d+\"/\"+os.path.splitext(i)[0]+\"_192.png\")\n",
        "    finished_count += 1\n",
        "  print(\"{0}개 변환완료\".format(finished_count))"
      ],
      "metadata": {
        "id": "pmN1nUFA3Ef1"
      },
      "execution_count": null,
      "outputs": []
    },
    {
      "cell_type": "code",
      "source": [
        "!unzip \"/content/drive/MyDrive/Colab Notebooks/data/malimg_dataset.zip\" -d \"/content/\""
      ],
      "metadata": {
        "id": "C5ZqwveKjySc"
      },
      "execution_count": null,
      "outputs": []
    },
    {
      "cell_type": "code",
      "source": [
        "!zip -r \"/content/drive/MyDrive/Colab Notebooks/data/malimg_224_bilinear.zip\" \"malimg_224_bilinear\""
      ],
      "metadata": {
        "id": "QzbrJka5C4gM"
      },
      "execution_count": null,
      "outputs": []
    },
    {
      "cell_type": "code",
      "source": [
        "rm -r \"malimg_224_nearest\""
      ],
      "metadata": {
        "id": "6V1Y55RnlUkk"
      },
      "execution_count": 11,
      "outputs": []
    }
  ]
}
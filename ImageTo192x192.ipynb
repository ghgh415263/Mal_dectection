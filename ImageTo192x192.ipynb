{
  "nbformat": 4,
  "nbformat_minor": 0,
  "metadata": {
    "colab": {
      "name": "ImageTo192x192.ipynb",
      "provenance": [],
      "collapsed_sections": [],
      "mount_file_id": "1wUMSdju6rn2f6QV5VLb-YQGU9FWe371N",
      "authorship_tag": "ABX9TyMz5nC9bTHMYRJ1q3nUrhRl",
      "include_colab_link": true
    },
    "kernelspec": {
      "name": "python3",
      "display_name": "Python 3"
    },
    "language_info": {
      "name": "python"
    }
  },
  "cells": [
    {
      "cell_type": "markdown",
      "metadata": {
        "id": "view-in-github",
        "colab_type": "text"
      },
      "source": [
        "<a href=\"https://colab.research.google.com/github/ghgh415263/Mal_dectection/blob/main/ImageTo192x192.ipynb\" target=\"_parent\"><img src=\"https://colab.research.google.com/assets/colab-badge.svg\" alt=\"Open In Colab\"/></a>"
      ]
    },
    {
      "cell_type": "code",
      "execution_count": 8,
      "metadata": {
        "colab": {
          "base_uri": "https://localhost:8080/"
        },
        "id": "TAtNmdQnLPJG",
        "outputId": "be4b225a-4830-45f3-cccb-d6490a034599"
      },
      "outputs": [
        {
          "output_type": "stream",
          "name": "stdout",
          "text": [
            "['c1', 'c2', 'c3']\n",
            "['1.png']\n",
            "['1.png']\n",
            "['1.png']\n"
          ]
        }
      ],
      "source": [
        "import os\n",
        "from PIL import Image\n",
        "\n",
        "size = 192\n",
        "path = \"/content/malimg_dataset\"        # 변환할 데이터셋\n",
        "path2 = \"/content/malimg_dataset_192\"   # 변환된 데이터셋\n",
        "\n",
        "def check_point_del(file_list):          # 체크포인트가 같이 리스트로 불려오는 경우가 있음\n",
        "  try:\n",
        "    file_list.remove(\".ipynb_checkpoints\")\n",
        "  except ValueError:\n",
        "    return\n",
        "\n",
        "'''frm = plt.gca() 이미지 띄우기\n",
        "frm.imshow(resize_image)\n",
        "frm.axes.get_xaxis().set_visible(False)\n",
        "frm.axes.get_yaxis().set_visible(False)'''\n",
        "\n",
        "dir_list = os.listdir(path)\n",
        "check_point_del(dir_list)\n",
        "\n",
        "for d in dir_list: # dir -> 하위 dir -> 재각각인 image\n",
        "  img_list = os.listdir(path+'/'+d)\n",
        "  check_point_del(img_list)\n",
        "  for i in img_list:\n",
        "    image = Image.open(\"{0}/{1}/{2}\".format(path,d,i)) #(path+\"/\"+d+\"/\"+i)\n",
        "    resize_image = image.resize((size, size))\n",
        "    if not os.path.exists(path2+'/'+d):\n",
        "      os.makedirs(path2+'/'+d)\n",
        "    resize_image.save(\"{0}/{1}/{2}_192.png\".format(path2,d,os.path.splitext(i)[0])) #(path2+d+\"/\"+os.path.splitext(i)[0]+\"_192.png\")\n"
      ]
    }
  ]
}
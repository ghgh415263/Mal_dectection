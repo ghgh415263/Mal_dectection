{
  "nbformat": 4,
  "nbformat_minor": 0,
  "metadata": {
    "colab": {
      "name": "BinToImage.ipynb",
      "provenance": [],
      "collapsed_sections": [],
      "authorship_tag": "ABX9TyP6s0sRVrfEAeJyYl4jjM/m",
      "include_colab_link": true
    },
    "kernelspec": {
      "name": "python3",
      "display_name": "Python 3"
    },
    "language_info": {
      "name": "python"
    }
  },
  "cells": [
    {
      "cell_type": "markdown",
      "metadata": {
        "id": "view-in-github",
        "colab_type": "text"
      },
      "source": [
        "<a href=\"https://colab.research.google.com/github/ghgh415263/Mal_dectection/blob/main/BinToImage.ipynb\" target=\"_parent\"><img src=\"https://colab.research.google.com/assets/colab-badge.svg\" alt=\"Open In Colab\"/></a>"
      ]
    },
    {
      "cell_type": "code",
      "source": [
        "import os\n",
        "import numpy as np\n",
        "from PIL import Image\n",
        "\n",
        "K_BYTE = 1024\n",
        "path = \"/content/sample_data/aa\"\n",
        "path2 = \"/content/sample_data/BinToImage\"\n",
        "\n",
        "def check_point_del(file_list):          # 체크포인트가 같이 리스트로 불려오는 경우가 있음\n",
        "  try:\n",
        "    file_list.remove(\".ipynb_checkpoints\")\n",
        "  except ValueError:\n",
        "    return\n",
        "\n",
        "print(\"--------------------------------- || BinToImage START || ---------------------------------\")\n",
        "dir_list = os.listdir(path)\n",
        "for d in dir_list:\n",
        "  file_list = os.listdir(\"{0}/{1}\".format(path, d))\n",
        "  if not os.path.exists(path2+'/'+d):\n",
        "    os.makedirs(path2+'/'+d)\n",
        "  check_point_del(file_list)  #ipynb일때만 추가하는 코드\n",
        "\n",
        "  for i in file_list:\n",
        "    file_path = \"{0}/{1}/{2}\".format(path, d, i)\n",
        "    with open(file_path, \"rb\") as f:\n",
        "      file_size = os.path.getsize(file_path)\n",
        "      width = 0\n",
        "\n",
        "      if file_size < (K_BYTE * 10):\n",
        "        width = 32\n",
        "      elif file_size < (K_BYTE * 30):\n",
        "        width = 64\n",
        "      elif file_size < (K_BYTE * 60):\n",
        "        width = 128\n",
        "      elif file_size < (K_BYTE * 100):\n",
        "        width = 256\n",
        "      elif file_size < (K_BYTE * 200):\n",
        "        width = 384\n",
        "      elif file_size < (K_BYTE * 500):\n",
        "        width = 512\n",
        "      elif file_size < (K_BYTE * 1000):\n",
        "        width = 768\n",
        "      else:\n",
        "        width = 1024\n",
        "    \n",
        "      remain_pixel = file_size % width;\n",
        "\n",
        "      raw_array = np.fromfile(f, dtype=\"uint8\", count=(file_size-remain_pixel))\n",
        "      image_array = raw_array.reshape(-1,width)\n",
        "      im = Image.fromarray(image_array)\n",
        "      im.save(\"{0}/{1}/{2}.jpg\".format(path2, d, os.path.splitext(os.path.split(file_path)[1])[0]))  #이미지 파일 저장\n",
        "      print(file_path, '- File Size:', file_size, 'bytes')"
      ],
      "metadata": {
        "colab": {
          "base_uri": "https://localhost:8080/"
        },
        "id": "1oShtFzqc33w",
        "outputId": "832a2e8f-8d96-440a-d824-ec67a49c1ac3"
      },
      "execution_count": 32,
      "outputs": [
        {
          "output_type": "stream",
          "name": "stdout",
          "text": [
            "--------------------------------- || BinToImage START || ---------------------------------\n",
            "1674\n",
            "/content/sample_data/aa/class2/파이썬.txt - File Size: 1674 bytes\n",
            "1674\n",
            "/content/sample_data/aa/class1/파이썬.txt - File Size: 1674 bytes\n"
          ]
        }
      ]
    }
  ]
}
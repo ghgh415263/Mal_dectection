{
  "nbformat": 4,
  "nbformat_minor": 0,
  "metadata": {
    "colab": {
      "name": "BinToImage.ipynb",
      "provenance": [],
      "collapsed_sections": [],
      "authorship_tag": "ABX9TyNmA/fn0UWsczDRXXSKO2LM",
      "include_colab_link": true
    },
    "kernelspec": {
      "name": "python3",
      "display_name": "Python 3"
    },
    "language_info": {
      "name": "python"
    }
  },
  "cells": [
    {
      "cell_type": "markdown",
      "metadata": {
        "id": "view-in-github",
        "colab_type": "text"
      },
      "source": [
        "<a href=\"https://colab.research.google.com/github/ghgh415263/Mal_dectection/blob/main/BinToImage.ipynb\" target=\"_parent\"><img src=\"https://colab.research.google.com/assets/colab-badge.svg\" alt=\"Open In Colab\"/></a>"
      ]
    },
    {
      "cell_type": "code",
      "source": [
        "import os\n",
        "import numpy as np\n",
        "from PIL import Image\n",
        "\n",
        "K_BYTE = 1024\n",
        "PATH = \"/content/sample_data/aa\"\n",
        "PATH2 = \"/content/sample_data/BinToImage\"\n",
        "\n",
        "def check_point_del(file_list):          # 체크포인트가 같이 리스트로 불려오는 경우가 있음\n",
        "  try:\n",
        "    file_list.remove(\".ipynb_checkpoints\")\n",
        "  except ValueError:\n",
        "    return\n",
        "\n",
        "dir_list = os.listdir(PATH)\n",
        "for d in dir_list:\n",
        "  file_list = os.listdir(\"{0}/{1}\".format(PATH, d))\n",
        "  if not os.path.exists(PATH2+'/'+d):\n",
        "        os.makedirs(PATH2+'/'+d)\n",
        "  check_point_del(file_list)  #ipynb일때만 추가하는 코드\n",
        "  for i in file_list:\n",
        "    file_path = \"{0}/{1}/{2}\".format(PATH, d, i)\n",
        "    with open(file_path, \"rb\") as f:\n",
        "      file_size = os.path.getsize(file_path)\n",
        "      width = 0\n",
        "      if file_size < (K_BYTE * 10):\n",
        "        width = 32\n",
        "      elif file_size < (K_BYTE * 30):\n",
        "        width = 64\n",
        "      elif file_size < (K_BYTE * 60):\n",
        "        width = 128\n",
        "      elif file_size < (K_BYTE * 100):\n",
        "        width = 256\n",
        "      elif file_size < (K_BYTE * 200):\n",
        "        width = 384\n",
        "      elif file_size < (K_BYTE * 500):\n",
        "        width = 512\n",
        "      elif file_size < (K_BYTE * 1000):\n",
        "        width = 768\n",
        "      else:\n",
        "        width = 1024\n",
        "      print(PATH, '- File Size:', file_size, 'bytes')\n",
        "      remain_pixel = file_size % width;\n",
        "\n",
        "      raw_array = np.fromfile(f, dtype=\"uint8\", count=(file_size-remain_pixel))\n",
        "      image_array = raw_array.reshape(-1,width)\n",
        "      im = Image.fromarray(image_array)\n",
        "      im.save(\"{0}/{1}/{2}.jpg\".format(PATH2, d, os.path.splitext(os.path.split(PATH)[1])[0]))  #파일명만 가져오기"
      ],
      "metadata": {
        "colab": {
          "base_uri": "https://localhost:8080/"
        },
        "id": "1oShtFzqc33w",
        "outputId": "125c27e9-1286-4b63-8503-19b51d536f44"
      },
      "execution_count": 21,
      "outputs": [
        {
          "output_type": "stream",
          "name": "stdout",
          "text": [
            "/content/sample_data/aa - File Size: 1674 bytes\n",
            "/content/sample_data/aa - File Size: 1674 bytes\n"
          ]
        }
      ]
    },
    {
      "cell_type": "code",
      "source": [
        "rm -r /content/sample_data/BinToImage\n"
      ],
      "metadata": {
        "id": "SaLBt-P8lUpb"
      },
      "execution_count": 20,
      "outputs": []
    }
  ]
}
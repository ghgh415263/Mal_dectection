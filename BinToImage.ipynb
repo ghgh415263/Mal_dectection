{
  "nbformat": 4,
  "nbformat_minor": 0,
  "metadata": {
    "colab": {
      "name": "BinToImage.ipynb",
      "provenance": [],
      "authorship_tag": "ABX9TyNvQj5g+RHRgZG8MtwQnTLJ",
      "include_colab_link": true
    },
    "kernelspec": {
      "name": "python3",
      "display_name": "Python 3"
    },
    "language_info": {
      "name": "python"
    }
  },
  "cells": [
    {
      "cell_type": "markdown",
      "metadata": {
        "id": "view-in-github",
        "colab_type": "text"
      },
      "source": [
        "<a href=\"https://colab.research.google.com/github/ghgh415263/Mal_dectection/blob/main/BinToImage.ipynb\" target=\"_parent\"><img src=\"https://colab.research.google.com/assets/colab-badge.svg\" alt=\"Open In Colab\"/></a>"
      ]
    },
    {
      "cell_type": "code",
      "execution_count": 24,
      "metadata": {
        "colab": {
          "base_uri": "https://localhost:8080/"
        },
        "id": "ivKAUTXOmqKy",
        "outputId": "b31ef8ea-1116-478c-8731-d8f252439306"
      },
      "outputs": [
        {
          "output_type": "stream",
          "name": "stdout",
          "text": [
            "File Size: 1697 bytes\n",
            "32\n",
            "1697\n"
          ]
        }
      ],
      "source": [
        "import os\n",
        "\n",
        "K_BYTE = 1024\n",
        "\n",
        "file_size = os.path.getsize(r\"/content/sample_data/anscombe.json\")\n",
        "print('File Size:', file_size, 'bytes')\n",
        "\n",
        "width = 0\n",
        "\n",
        "if file_size < K_BYTE * 10:\n",
        "  width = 32\n",
        "elif file_size < K_BYTE * 30:\n",
        "  width = 64\n",
        "elif file_size < K_BYTE * 60:\n",
        "  width = 128\n",
        "elif file_size < K_BYTE * 100:\n",
        "  width = 256\n",
        "elif file_size < K_BYTE * 200:\n",
        "  width = 384\n",
        "elif file_size < K_BYTE * 500:\n",
        "  width = 512\n",
        "elif file_size < K_BYTE * 1000:\n",
        "  width = 768\n",
        "else:\n",
        "  width = 1024\n",
        "\n",
        "array = []\n",
        "count = 0\n",
        "with open(\"/content/sample_data/anscombe.json\", \"rb\") as f:\n",
        "  while True:\n",
        "    temp = f.read(1)\n",
        "    if temp == bytes(0) : break\n",
        "    count += 1\n",
        "    if temp >= bytes(1):\n",
        "      k = 1\n",
        "      #print(temp)\n",
        "      #print(int.from_bytes(temp, \"big\"))\n",
        "\n",
        "print(count)"
      ]
    }
  ]
}
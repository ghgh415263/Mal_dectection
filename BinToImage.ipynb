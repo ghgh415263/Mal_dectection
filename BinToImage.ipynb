{
  "nbformat": 4,
  "nbformat_minor": 0,
  "metadata": {
    "colab": {
      "name": "BinToImage.ipynb",
      "provenance": [],
      "collapsed_sections": [],
      "authorship_tag": "ABX9TyOj0PebIPR41h7OroOGva4c",
      "include_colab_link": true
    },
    "kernelspec": {
      "name": "python3",
      "display_name": "Python 3"
    },
    "language_info": {
      "name": "python"
    }
  },
  "cells": [
    {
      "cell_type": "markdown",
      "metadata": {
        "id": "view-in-github",
        "colab_type": "text"
      },
      "source": [
        "<a href=\"https://colab.research.google.com/github/ghgh415263/Mal_dectection/blob/main/BinToImage.ipynb\" target=\"_parent\"><img src=\"https://colab.research.google.com/assets/colab-badge.svg\" alt=\"Open In Colab\"/></a>"
      ]
    },
    {
      "cell_type": "code",
      "source": [
        "import os\n",
        "import numpy as np\n",
        "from PIL import Image\n",
        "\n",
        "K_BYTE = 1024\n",
        "\n",
        "file_size = os.path.getsize(r\"/content/sample_data/anscombe.json\")\n",
        "print('File Size:', file_size, 'bytes')\n",
        "\n",
        "width = 0\n",
        "\n",
        "if file_size < (K_BYTE * 10):\n",
        "  width = 32\n",
        "elif file_size < (K_BYTE * 30):\n",
        "  width = 64\n",
        "elif file_size < (K_BYTE * 60):\n",
        "  width = 128\n",
        "elif file_size < (K_BYTE * 100):\n",
        "  width = 256\n",
        "elif file_size < (K_BYTE * 200):\n",
        "  width = 384\n",
        "elif file_size < (K_BYTE * 500):\n",
        "  width = 512\n",
        "elif file_size < (K_BYTE * 1000):\n",
        "  width = 768\n",
        "else:\n",
        "  width = 1024\n",
        "\n",
        "remain = file_size % width;\n",
        "\n",
        "with open(\"/content/sample_data/anscombe.json\", \"rb\") as f:\n",
        "  raw_array = np.fromfile(f, dtype=\"uint8\", count=(file_size-remain))\n",
        "\n",
        "image_array = raw_array.reshape(-1,width)\n",
        "im = Image.fromarray(image_array)\n",
        "im.save(\"your_file.jpeg\")"
      ],
      "metadata": {
        "colab": {
          "base_uri": "https://localhost:8080/"
        },
        "id": "U_JA1FEHqC2Q",
        "outputId": "9a367d78-4594-478e-b7e8-5a669f6bdade"
      },
      "execution_count": 22,
      "outputs": [
        {
          "output_type": "stream",
          "name": "stdout",
          "text": [
            "File Size: 1697 bytes\n"
          ]
        }
      ]
    },
    {
      "cell_type": "code",
      "source": [
        "import numpy as np\n",
        "from PIL import Image\n",
        "\n",
        "image = Image.open(\"/content/sample_data/0b99b1c0-e0fd-4201-8d59-dfa623878fc7.png\")\n",
        "np_array = np.array(image)\n",
        "\n",
        "pil_image=Image.fromarray(np_array)\n",
        "pil_image.show()"
      ],
      "metadata": {
        "id": "ZNxt9ALTIroZ"
      },
      "execution_count": 3,
      "outputs": []
    }
  ]
}
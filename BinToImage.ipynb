{
  "nbformat": 4,
  "nbformat_minor": 0,
  "metadata": {
    "colab": {
      "name": "BinToImage.ipynb",
      "provenance": [],
      "collapsed_sections": [],
      "authorship_tag": "ABX9TyMmcAgwAHK8bcepqzu3DCGq",
      "include_colab_link": true
    },
    "kernelspec": {
      "name": "python3",
      "display_name": "Python 3"
    },
    "language_info": {
      "name": "python"
    }
  },
  "cells": [
    {
      "cell_type": "markdown",
      "metadata": {
        "id": "view-in-github",
        "colab_type": "text"
      },
      "source": [
        "<a href=\"https://colab.research.google.com/github/ghgh415263/Mal_dectection/blob/main/BinToImage.ipynb\" target=\"_parent\"><img src=\"https://colab.research.google.com/assets/colab-badge.svg\" alt=\"Open In Colab\"/></a>"
      ]
    },
    {
      "cell_type": "code",
      "source": [
        "import os\n",
        "import numpy as np\n",
        "from PIL import Image\n",
        "\n",
        "K_BYTE = 1024\n",
        "PATH = \"/content/sample_data/asd.txt\"\n",
        "\n",
        "file_size = os.path.getsize(PATH)\n",
        "print('File Size:', file_size, 'bytes')\n",
        "\n",
        "width = 0\n",
        "if file_size < (K_BYTE * 10):\n",
        "  width = 32\n",
        "elif file_size < (K_BYTE * 30):\n",
        "  width = 64\n",
        "elif file_size < (K_BYTE * 60):\n",
        "  width = 128\n",
        "elif file_size < (K_BYTE * 100):\n",
        "  width = 256\n",
        "elif file_size < (K_BYTE * 200):\n",
        "  width = 384\n",
        "elif file_size < (K_BYTE * 500):\n",
        "  width = 512\n",
        "elif file_size < (K_BYTE * 1000):\n",
        "  width = 768\n",
        "else:\n",
        "  width = 1024\n",
        "\n",
        "remain_pixel = file_size % width;\n",
        "\n",
        "with open(PATH, \"rb\") as f:\n",
        "  raw_array = np.fromfile(f, dtype=\"uint8\", count=(file_size-remain_pixel))\n",
        "\n",
        "image_array = raw_array.reshape(-1,width)\n",
        "im = Image.fromarray(image_array)\n",
        "im.save(\"{0}.jpg\".format(os.path.splitext(os.path.split(PATH)[1])[0]))  #파일명만 가져오기"
      ],
      "metadata": {
        "colab": {
          "base_uri": "https://localhost:8080/"
        },
        "id": "U_JA1FEHqC2Q",
        "outputId": "4991dec0-337b-4cce-8c45-412cfb7d1e57"
      },
      "execution_count": 14,
      "outputs": [
        {
          "output_type": "stream",
          "name": "stdout",
          "text": [
            "File Size: 8370 bytes\n"
          ]
        }
      ]
    }
  ]
}
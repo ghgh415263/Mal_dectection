{
  "nbformat": 4,
  "nbformat_minor": 0,
  "metadata": {
    "colab": {
      "name": "autoencoder.ipynb",
      "provenance": [],
      "authorship_tag": "ABX9TyOGWxoHtEL1NuGUJfK6W5Fz",
      "include_colab_link": true
    },
    "kernelspec": {
      "name": "python3",
      "display_name": "Python 3"
    },
    "language_info": {
      "name": "python"
    }
  },
  "cells": [
    {
      "cell_type": "markdown",
      "metadata": {
        "id": "view-in-github",
        "colab_type": "text"
      },
      "source": [
        "<a href=\"https://colab.research.google.com/github/ghgh415263/Mal_dectection/blob/main/autoencoder.ipynb\" target=\"_parent\"><img src=\"https://colab.research.google.com/assets/colab-badge.svg\" alt=\"Open In Colab\"/></a>"
      ]
    },
    {
      "cell_type": "code",
      "execution_count": 1,
      "metadata": {
        "colab": {
          "base_uri": "https://localhost:8080/"
        },
        "id": "fSfpywofRVSD",
        "outputId": "2ff9ef5c-a148-4248-d650-cda292569c19"
      },
      "outputs": [
        {
          "output_type": "stream",
          "name": "stdout",
          "text": [
            "Model: \"sequential\"\n",
            "_________________________________________________________________\n",
            " Layer (type)                Output Shape              Param #   \n",
            "=================================================================\n",
            " conv2d (Conv2D)             (None, 192, 192, 48)      480       \n",
            "                                                                 \n",
            " max_pooling2d (MaxPooling2D  (None, 96, 96, 48)       0         \n",
            " )                                                               \n",
            "                                                                 \n",
            " conv2d_1 (Conv2D)           (None, 96, 96, 96)        41568     \n",
            "                                                                 \n",
            " max_pooling2d_1 (MaxPooling  (None, 48, 48, 96)       0         \n",
            " 2D)                                                             \n",
            "                                                                 \n",
            " conv2d_2 (Conv2D)           (None, 48, 48, 128)       110720    \n",
            "                                                                 \n",
            " max_pooling2d_2 (MaxPooling  (None, 24, 24, 128)      0         \n",
            " 2D)                                                             \n",
            "                                                                 \n",
            " conv2d_3 (Conv2D)           (None, 24, 24, 128)       147584    \n",
            "                                                                 \n",
            " max_pooling2d_3 (MaxPooling  (None, 12, 12, 128)      0         \n",
            " 2D)                                                             \n",
            "                                                                 \n",
            " flatten (Flatten)           (None, 18432)             0         \n",
            "                                                                 \n",
            " dense (Dense)               (None, 128)               2359424   \n",
            "                                                                 \n",
            " dense_1 (Dense)             (None, 10)                1290      \n",
            "                                                                 \n",
            "=================================================================\n",
            "Total params: 2,661,066\n",
            "Trainable params: 2,661,066\n",
            "Non-trainable params: 0\n",
            "_________________________________________________________________\n"
          ]
        }
      ],
      "source": [
        "import tensorflow as tf\n",
        "from tensorflow.keras import datasets, layers, models\n",
        "\n",
        "encoder = models.Sequential()\n",
        "encoder.add(layers.Conv2D(48, (3, 3), activation='relu', input_shape=(192, 192, 1), padding = 'same'))\n",
        "encoder.add(layers.MaxPooling2D((2, 2)))\n",
        "encoder.add(layers.Conv2D(96, (3, 3), activation='relu', padding = 'same'))\n",
        "encoder.add(layers.MaxPooling2D((2, 2)))\n",
        "encoder.add(layers.Conv2D(128, (3, 3), activation='relu', padding = 'same'))\n",
        "encoder.add(layers.MaxPooling2D((2, 2)))\n",
        "encoder.add(layers.Conv2D(128, (3, 3), activation='relu', padding = 'same'))\n",
        "encoder.add(layers.MaxPooling2D((2, 2)))\n",
        "'''encoder.add(layers.Flatten())\n",
        "encoder.add(layers.Dense(128, activation='relu'))\n",
        "encoder.add(layers.Dense(10, activation='softmax'))'''\n",
        "\n",
        "encoder.summary()"
      ]
    }
  ]
}
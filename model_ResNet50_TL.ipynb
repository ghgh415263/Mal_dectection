{
  "nbformat": 4,
  "nbformat_minor": 0,
  "metadata": {
    "colab": {
      "name": "model_ResNet50_TL.ipynb",
      "provenance": [],
      "mount_file_id": "https://github.com/ghgh415263/Mal_dectection/blob/main/model_ResNet50_TL.ipynb",
      "authorship_tag": "ABX9TyO+Buo6ksdyZvKRg8WfbzVF",
      "include_colab_link": true
    },
    "kernelspec": {
      "name": "python3",
      "display_name": "Python 3"
    },
    "language_info": {
      "name": "python"
    },
    "accelerator": "GPU"
  },
  "cells": [
    {
      "cell_type": "markdown",
      "metadata": {
        "id": "view-in-github",
        "colab_type": "text"
      },
      "source": [
        "<a href=\"https://colab.research.google.com/github/ghgh415263/Mal_dectection/blob/main/model_ResNet50_TL.ipynb\" target=\"_parent\"><img src=\"https://colab.research.google.com/assets/colab-badge.svg\" alt=\"Open In Colab\"/></a>"
      ]
    },
    {
      "cell_type": "code",
      "source": [
        "import matplotlib.pyplot as plt\n",
        "import numpy as np\n",
        "import os\n",
        "import PIL\n",
        "import tensorflow as tf\n",
        "\n",
        "from tensorflow import keras\n",
        "from tensorflow.keras import layers\n",
        "from tensorflow.keras.models import Sequential\n",
        "\n",
        "from tensorflow.keras.applications.resnet50 import ResNet50\n",
        "\n",
        "import pathlib\n",
        "\n",
        "DATA_PATH = \"/content/malimg_dataset_224\"\n",
        "batch_size = 32\n",
        "img_height = 224\n",
        "img_width = 224\n",
        "\n",
        "data_dir = pathlib.Path(DATA_PATH)\n",
        "\n",
        "train_ds = tf.keras.preprocessing.image_dataset_from_directory(\n",
        "  data_dir,\n",
        "  validation_split=0.2,\n",
        "  subset=\"training\",\n",
        "  seed=123,\n",
        "  image_size=(img_height, img_width),\n",
        "  batch_size=batch_size)\n",
        "\n",
        "val_ds = tf.keras.preprocessing.image_dataset_from_directory(\n",
        "  data_dir,\n",
        "  validation_split=0.2,\n",
        "  subset=\"validation\",\n",
        "  seed=123,\n",
        "  image_size=(img_height, img_width),\n",
        "  batch_size=batch_size)\n",
        "\n",
        "base_model = ResNet50(weights=\"imagenet\", include_top=False, input_shape=(img_height,img_width,3))\n",
        "base_model.trainable=False\n",
        "\n",
        "model = Sequential([\n",
        "    layers.experimental.preprocessing.Rescaling(1./255, input_shape=(img_height, img_width, 3)),\n",
        "    base_model,\n",
        "    layers.Flatten(),\n",
        "    layers.Dense(25, activation='softmax')\n",
        "])\n",
        "model.summary()\n",
        "\n",
        "model.compile(optimizer='adam',\n",
        "              loss=tf.keras.losses.SparseCategoricalCrossentropy(from_logits=False),\n",
        "              metrics=['accuracy'])\n",
        "\n",
        "checkpoint_path = \"/content/drive/MyDrive/Colab_Notebooks/malware_model192x192/save/training-res50-1layer/cp-{epoch:04d}.ckpt\"\n",
        "checkpoint_dir = os.path.dirname(checkpoint_path)\n",
        "\n",
        "#latest = tf.train.latest_checkpoint(\"/content/drive/MyDrive/Colab_Notebooks/malware_model192x192/save/training-res50-1layer\")\n",
        "#model.load_weights(latest)\n",
        "\n",
        "cp_callback = tf.keras.callbacks.ModelCheckpoint(\n",
        "    filepath=checkpoint_path, \n",
        "    verbose=1, \n",
        "    save_weights_only=True,\n",
        "    period=3)\n",
        "\n",
        "history = model.fit(train_ds, epochs=1000, validation_data=val_ds, callbacks=[cp_callback]) # one-hot 방식이 아니다."
      ],
      "metadata": {
        "id": "kAm4_jONmXsp"
      },
      "execution_count": null,
      "outputs": []
    }
  ]
}